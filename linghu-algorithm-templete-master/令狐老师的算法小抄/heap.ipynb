{
 "cells": [
  {
   "cell_type": "markdown",
   "metadata": {},
   "source": [
    "# Heap\n",
    "\n",
    "## 使用条件\n",
    "<br>\n",
    "找最大值或者最小值(60%)\n",
    "<br>\n",
    "找第 k 大(pop k 次复杂度O(nlogk))(50%)\n",
    "<br>\n",
    "要求 logn 时间对数据进行操作(40%)\n",
    "<br>\n",
    "<br>\n",
    "\n",
    "## 堆不能解决的问题\n",
    "查询比某个数大的最小值/最接近的值（平衡排序二叉树Balanced BST 才可以解决）\n",
    "<br>\n",
    "找某段区间的最大值最小值（线段树SegmentTree 可以解决）\n",
    "<br>\n",
    "O(n)找第 k 大(使用快排中的partition 操作)\n",
    "<br>"
   ]
  },
  {
   "cell_type": "code",
   "execution_count": 2,
   "metadata": {},
   "outputs": [],
   "source": [
    "from heapq import heappush, heappop\n",
    "\n",
    "class Heap:\n",
    "\n",
    "    def __init__(self):\n",
    "      self.minheap = []\n",
    "      self.deleted_set = set()\n",
    "    \n",
    "    def push(self, index, val):\n",
    "        heappush(self.minheap, (val, index))\n",
    "    \n",
    "    def _lazy_deletion(self):\n",
    "        while self.minheap and self.minheap[0][1] in self.deleted_set:\n",
    "            heappop(self.minheap)\n",
    "    \n",
    "    def top(self):\n",
    "        self._lazy_deletion()\n",
    "        return self.minheap[0]\n",
    "    \n",
    "    def pop(self):\n",
    "        self._lazy_deletion()\n",
    "        heappop(self.minheap)\n",
    "    \n",
    "    def delete(self, index):\n",
    "        self.deleted_set.add(index)\n",
    "    \n",
    "    def is_empty(self):\n",
    "        return not bool(self.minheap)\n",
    "    "
   ]
  },
  {
   "cell_type": "code",
   "execution_count": null,
   "metadata": {},
   "outputs": [],
   "source": []
  },
  {
   "cell_type": "code",
   "execution_count": null,
   "metadata": {},
   "outputs": [],
   "source": []
  }
 ],
 "metadata": {
  "interpreter": {
   "hash": "1baa965d5efe3ac65b79dfc60c0d706280b1da80fedb7760faf2759126c4f253"
  },
  "kernelspec": {
   "display_name": "Python 3.8.1 64-bit",
   "name": "python3"
  },
  "language_info": {
   "codemirror_mode": {
    "name": "ipython",
    "version": 3
   },
   "file_extension": ".py",
   "mimetype": "text/x-python",
   "name": "python",
   "nbconvert_exporter": "python",
   "pygments_lexer": "ipython3",
   "version": "3.8.1"
  },
  "orig_nbformat": 4
 },
 "nbformat": 4,
 "nbformat_minor": 2
}
